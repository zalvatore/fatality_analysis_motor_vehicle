{
 "cells": [
  {
   "cell_type": "markdown",
   "metadata": {},
   "source": [
    "# Predict"
   ]
  },
  {
   "cell_type": "markdown",
   "metadata": {},
   "source": [
    "***"
   ]
  },
  {
   "cell_type": "markdown",
   "metadata": {},
   "source": [
    "## Libraries"
   ]
  },
  {
   "cell_type": "code",
   "execution_count": 1,
   "metadata": {},
   "outputs": [],
   "source": [
    "import os\n",
    "import pandas as pd\n",
    "import json\n",
    "import warnings\n",
    "from joblib import load\n",
    "warnings.filterwarnings('ignore')"
   ]
  },
  {
   "cell_type": "code",
   "execution_count": 2,
   "metadata": {},
   "outputs": [],
   "source": [
    "# DO NOT CHANGE THESE LINES.\n",
    "ROOT_DIR = os.path.dirname(os.getcwd())\n",
    "MODEL_INPUTS_OUTPUTS = os.path.join(ROOT_DIR,  'model_IO/')\n",
    "INPUT_DIR = os.path.join(MODEL_INPUTS_OUTPUTS, \"inputs\")\n",
    "OUTPUT_DIR = os.path.join(MODEL_INPUTS_OUTPUTS, \"outputs\")\n",
    "INPUT_SCHEMA_DIR = os.path.join(INPUT_DIR, \"schema\")\n",
    "DATA_DIR = os.path.join(INPUT_DIR, \"data\")\n",
    "TRAIN_DIR = os.path.join(DATA_DIR, \"training\")\n",
    "TEST_DIR = os.path.join(DATA_DIR, \"testing\")\n",
    "MODEL_PATH = os.path.join(MODEL_INPUTS_OUTPUTS, \"model\")\n",
    "MODEL_ARTIFACTS_PATH = os.path.join(MODEL_PATH, \"artifacts\")\n",
    "OHE_ENCODER_FILE = os.path.join(MODEL_ARTIFACTS_PATH, 'ohe.joblib')\n",
    "LABEL_ENCODER_FILE = os.path.join(MODEL_ARTIFACTS_PATH, 'label_encoder.joblib')\n",
    "PREDICTOR_DIR_PATH = os.path.join(MODEL_ARTIFACTS_PATH, \"predictor\")\n",
    "PREDICTOR_FILE_PATH = os.path.join(PREDICTOR_DIR_PATH, \"predictor.joblib\")\n",
    "IMPUTATION_FILE = os.path.join(MODEL_ARTIFACTS_PATH, 'imputation.joblib')\n",
    "PREDICTIONS_DIR = os.path.join(OUTPUT_DIR, 'predictions')\n",
    "PREDICTIONS_FILE = os.path.join(PREDICTIONS_DIR, 'predictions.csv')\n",
    "if not os.path.exists(PREDICTIONS_DIR):\n",
    "    os.makedirs(PREDICTIONS_DIR)"
   ]
  },
  {
   "cell_type": "markdown",
   "metadata": {},
   "source": [
    "## Load Data"
   ]
  },
  {
   "cell_type": "code",
   "execution_count": 3,
   "metadata": {},
   "outputs": [],
   "source": [
    "file_name = [f for f in os.listdir(INPUT_SCHEMA_DIR) if f.endswith('.json')][0]\n",
    "schema_path = os.path.join(INPUT_SCHEMA_DIR, file_name)\n",
    "with open(schema_path, \"r\", encoding=\"utf-8\") as file:\n",
    "    schema = json.load(file)\n",
    "features = schema['features']\n",
    "\n",
    "numeric_features = []\n",
    "categorical_features = []\n",
    "for f in features:\n",
    "    if f['dataType'] == 'CATEGORICAL':\n",
    "        categorical_features.append(f['name'])\n",
    "    else:\n",
    "        numeric_features.append(f['name'])\n",
    "\n",
    "id_feature = schema['id']['name']\n",
    "target_feature = schema['target']['name']"
   ]
  },
  {
   "cell_type": "code",
   "execution_count": 4,
   "metadata": {},
   "outputs": [
    {
     "data": {
      "text/html": [
       "<div>\n",
       "<style scoped>\n",
       "    .dataframe tbody tr th:only-of-type {\n",
       "        vertical-align: middle;\n",
       "    }\n",
       "\n",
       "    .dataframe tbody tr th {\n",
       "        vertical-align: top;\n",
       "    }\n",
       "\n",
       "    .dataframe thead th {\n",
       "        text-align: right;\n",
       "    }\n",
       "</style>\n",
       "<table border=\"1\" class=\"dataframe\">\n",
       "  <thead>\n",
       "    <tr style=\"text-align: right;\">\n",
       "      <th></th>\n",
       "      <th>u_id</th>\n",
       "      <th>fatals</th>\n",
       "      <th>a_ct</th>\n",
       "      <th>a_ped_f</th>\n",
       "      <th>a_pedal_f</th>\n",
       "      <th>a_roll</th>\n",
       "      <th>a_hr</th>\n",
       "      <th>a_polpur</th>\n",
       "      <th>month</th>\n",
       "      <th>day</th>\n",
       "      <th>...</th>\n",
       "      <th>a_body</th>\n",
       "      <th>owner</th>\n",
       "      <th>deaths</th>\n",
       "      <th>numoccs</th>\n",
       "      <th>impact1</th>\n",
       "      <th>deformed</th>\n",
       "      <th>ve_forms</th>\n",
       "      <th>ve_total</th>\n",
       "      <th>weather</th>\n",
       "      <th>lgt_cond</th>\n",
       "    </tr>\n",
       "  </thead>\n",
       "  <tbody>\n",
       "    <tr>\n",
       "      <th>2</th>\n",
       "      <td>24020</td>\n",
       "      <td>1</td>\n",
       "      <td>Single-Vehicle Crash</td>\n",
       "      <td>Pedestrian Fatality Involved Crash</td>\n",
       "      <td>Other Crash</td>\n",
       "      <td>Other Crash</td>\n",
       "      <td>Yes - Hit and Run</td>\n",
       "      <td>Other Crash</td>\n",
       "      <td>10</td>\n",
       "      <td>15</td>\n",
       "      <td>...</td>\n",
       "      <td>Van-Based Light Trucks</td>\n",
       "      <td>Driver (in this crash) Not Registered Owner (o...</td>\n",
       "      <td>0</td>\n",
       "      <td>1.0</td>\n",
       "      <td>Clockpoint 1</td>\n",
       "      <td>Minor damage</td>\n",
       "      <td>1</td>\n",
       "      <td>1</td>\n",
       "      <td>Clear</td>\n",
       "      <td>Dark - not lighted</td>\n",
       "    </tr>\n",
       "    <tr>\n",
       "      <th>5</th>\n",
       "      <td>53521</td>\n",
       "      <td>1</td>\n",
       "      <td>Single-Vehicle Crash</td>\n",
       "      <td>Other Crash</td>\n",
       "      <td>Other Crash</td>\n",
       "      <td>Other Crash</td>\n",
       "      <td>No - Hit and Run</td>\n",
       "      <td>Other Crash</td>\n",
       "      <td>12</td>\n",
       "      <td>28</td>\n",
       "      <td>...</td>\n",
       "      <td>Light Conventional Trucks</td>\n",
       "      <td>Driver (in this crash) Was Registered Owner</td>\n",
       "      <td>1</td>\n",
       "      <td>3.0</td>\n",
       "      <td>Clockpoint 12</td>\n",
       "      <td>Disabling damage</td>\n",
       "      <td>1</td>\n",
       "      <td>1</td>\n",
       "      <td>Clear</td>\n",
       "      <td>Dark - not lighted</td>\n",
       "    </tr>\n",
       "    <tr>\n",
       "      <th>6</th>\n",
       "      <td>21812</td>\n",
       "      <td>1</td>\n",
       "      <td>Single-Vehicle Crash</td>\n",
       "      <td>Pedestrian Fatality Involved Crash</td>\n",
       "      <td>Other Crash</td>\n",
       "      <td>Other Crash</td>\n",
       "      <td>No - Hit and Run</td>\n",
       "      <td>Other Crash</td>\n",
       "      <td>6</td>\n",
       "      <td>8</td>\n",
       "      <td>...</td>\n",
       "      <td>Automobiles</td>\n",
       "      <td>Driver (in this crash) Not Registered Owner (o...</td>\n",
       "      <td>0</td>\n",
       "      <td>2.0</td>\n",
       "      <td>Clockpoint 12</td>\n",
       "      <td>Functional damage</td>\n",
       "      <td>1</td>\n",
       "      <td>1</td>\n",
       "      <td>Cloudy</td>\n",
       "      <td>Dark - not lighted</td>\n",
       "    </tr>\n",
       "  </tbody>\n",
       "</table>\n",
       "<p>3 rows × 38 columns</p>\n",
       "</div>"
      ],
      "text/plain": [
       "    u_id  fatals                  a_ct                             a_ped_f  \\\n",
       "2  24020       1  Single-Vehicle Crash  Pedestrian Fatality Involved Crash   \n",
       "5  53521       1  Single-Vehicle Crash                         Other Crash   \n",
       "6  21812       1  Single-Vehicle Crash  Pedestrian Fatality Involved Crash   \n",
       "\n",
       "     a_pedal_f       a_roll               a_hr     a_polpur  month  day  ...  \\\n",
       "2  Other Crash  Other Crash  Yes - Hit and Run  Other Crash     10   15  ...   \n",
       "5  Other Crash  Other Crash   No - Hit and Run  Other Crash     12   28  ...   \n",
       "6  Other Crash  Other Crash   No - Hit and Run  Other Crash      6    8  ...   \n",
       "\n",
       "                      a_body  \\\n",
       "2     Van-Based Light Trucks   \n",
       "5  Light Conventional Trucks   \n",
       "6                Automobiles   \n",
       "\n",
       "                                               owner  deaths numoccs  \\\n",
       "2  Driver (in this crash) Not Registered Owner (o...       0     1.0   \n",
       "5        Driver (in this crash) Was Registered Owner       1     3.0   \n",
       "6  Driver (in this crash) Not Registered Owner (o...       0     2.0   \n",
       "\n",
       "         impact1           deformed ve_forms ve_total weather  \\\n",
       "2   Clockpoint 1       Minor damage        1        1   Clear   \n",
       "5  Clockpoint 12   Disabling damage        1        1   Clear   \n",
       "6  Clockpoint 12  Functional damage        1        1  Cloudy   \n",
       "\n",
       "             lgt_cond  \n",
       "2  Dark - not lighted  \n",
       "5  Dark - not lighted  \n",
       "6  Dark - not lighted  \n",
       "\n",
       "[3 rows x 38 columns]"
      ]
     },
     "execution_count": 4,
     "metadata": {},
     "output_type": "execute_result"
    }
   ],
   "source": [
    "#load testing data\n",
    "file_name = [f for f in os.listdir(TEST_DIR) if f.endswith('.csv')][0]\n",
    "file_path = os.path.join(TEST_DIR, file_name)\n",
    "df = pd.read_csv(file_path)\n",
    "df = df.dropna()\n",
    "df.head(3)"
   ]
  },
  {
   "cell_type": "markdown",
   "metadata": {},
   "source": [
    "## Process Data"
   ]
  },
  {
   "cell_type": "code",
   "execution_count": 5,
   "metadata": {},
   "outputs": [],
   "source": [
    "def bucketize_age(age):\n",
    "    if age < 20:\n",
    "        return \"Under 20\"\n",
    "    elif age < 30:\n",
    "        return \"20-29\"\n",
    "    elif age < 40:\n",
    "        return \"30-39\"\n",
    "    elif age < 50:\n",
    "        return \"40-49\"\n",
    "    elif age < 60:\n",
    "        return \"50-59\"\n",
    "    else:\n",
    "        return \"60 and above\"\n",
    "\n",
    "def bucketize_death(deaths):\n",
    "    if deaths > 1:\n",
    "        return 1\n",
    "    else:\n",
    "        return 0\n",
    "    \n",
    "def bucketize_hour(x):\n",
    "    if (x > 4) and (x <= 8):\n",
    "        return 'Early Morning'\n",
    "    elif (x > 8) and (x <= 12 ):\n",
    "        return 'Morning'\n",
    "    elif (x > 12) and (x <= 16):\n",
    "        return'Noon'\n",
    "    elif (x > 16) and (x <= 20) :\n",
    "        return 'Eve'\n",
    "    elif (x > 20) and (x <= 24):\n",
    "        return'Night'\n",
    "    elif (x <= 4):\n",
    "        return'Late Night'\n",
    "    \n",
    "# Apply the bucketizing\n",
    "df['age_bucket'] = df['age'].apply(bucketize_age)\n",
    "df['death_bucket'] = df['deaths'].apply(bucketize_death)\n",
    "df['hour_bucket'] = df['hour'].apply(bucketize_hour)\n",
    "categorical_features.extend([\"age_bucket\",\"death_bucket\",\"hour_bucket\"])"
   ]
  },
  {
   "cell_type": "markdown",
   "metadata": {},
   "source": [
    "## Encoding"
   ]
  },
  {
   "cell_type": "code",
   "execution_count": 6,
   "metadata": {},
   "outputs": [],
   "source": [
    "#Clean DF\n",
    "if 'a_ct' in categorical_features:\n",
    "    categorical_features.remove('a_ct')\n"
   ]
  },
  {
   "cell_type": "code",
   "execution_count": 7,
   "metadata": {},
   "outputs": [],
   "source": [
    "# Encoding\n",
    "encoder = load(OHE_ENCODER_FILE)\n",
    "\n",
    "categorical = df[categorical_features]  \n",
    "categorical_encoded = encoder.transform(categorical)"
   ]
  },
  {
   "cell_type": "markdown",
   "metadata": {},
   "source": [
    "## Make Prediction"
   ]
  },
  {
   "cell_type": "code",
   "execution_count": 12,
   "metadata": {},
   "outputs": [],
   "source": [
    "model = load(PREDICTOR_FILE_PATH)"
   ]
  },
  {
   "cell_type": "code",
   "execution_count": 14,
   "metadata": {},
   "outputs": [
    {
     "ename": "NotFittedError",
     "evalue": "This GradientBoostingClassifier instance is not fitted yet. Call 'fit' with appropriate arguments before using this estimator.",
     "output_type": "error",
     "traceback": [
      "\u001b[0;31m---------------------------------------------------------------------------\u001b[0m",
      "\u001b[0;31mNotFittedError\u001b[0m                            Traceback (most recent call last)",
      "Cell \u001b[0;32mIn[14], line 1\u001b[0m\n\u001b[0;32m----> 1\u001b[0m predictions \u001b[39m=\u001b[39m model\u001b[39m.\u001b[39;49mpredict_proba(categorical_encoded)\n\u001b[1;32m      3\u001b[0m predictions\n",
      "File \u001b[0;32m~/Dropbox/ADS/Hackathon 2023/fars/lib/python3.10/site-packages/sklearn/ensemble/_gb.py:1333\u001b[0m, in \u001b[0;36mGradientBoostingClassifier.predict_proba\u001b[0;34m(self, X)\u001b[0m\n\u001b[1;32m   1312\u001b[0m \u001b[39mdef\u001b[39;00m \u001b[39mpredict_proba\u001b[39m(\u001b[39mself\u001b[39m, X):\n\u001b[1;32m   1313\u001b[0m \u001b[39m    \u001b[39m\u001b[39m\"\"\"Predict class probabilities for X.\u001b[39;00m\n\u001b[1;32m   1314\u001b[0m \n\u001b[1;32m   1315\u001b[0m \u001b[39m    Parameters\u001b[39;00m\n\u001b[0;32m   (...)\u001b[0m\n\u001b[1;32m   1331\u001b[0m \u001b[39m        If the ``loss`` does not support probabilities.\u001b[39;00m\n\u001b[1;32m   1332\u001b[0m \u001b[39m    \"\"\"\u001b[39;00m\n\u001b[0;32m-> 1333\u001b[0m     raw_predictions \u001b[39m=\u001b[39m \u001b[39mself\u001b[39;49m\u001b[39m.\u001b[39;49mdecision_function(X)\n\u001b[1;32m   1334\u001b[0m     \u001b[39mtry\u001b[39;00m:\n\u001b[1;32m   1335\u001b[0m         \u001b[39mreturn\u001b[39;00m \u001b[39mself\u001b[39m\u001b[39m.\u001b[39m_loss\u001b[39m.\u001b[39m_raw_prediction_to_proba(raw_predictions)\n",
      "File \u001b[0;32m~/Dropbox/ADS/Hackathon 2023/fars/lib/python3.10/site-packages/sklearn/ensemble/_gb.py:1242\u001b[0m, in \u001b[0;36mGradientBoostingClassifier.decision_function\u001b[0;34m(self, X)\u001b[0m\n\u001b[1;32m   1221\u001b[0m \u001b[39m\u001b[39m\u001b[39m\"\"\"Compute the decision function of ``X``.\u001b[39;00m\n\u001b[1;32m   1222\u001b[0m \n\u001b[1;32m   1223\u001b[0m \u001b[39mParameters\u001b[39;00m\n\u001b[0;32m   (...)\u001b[0m\n\u001b[1;32m   1237\u001b[0m \u001b[39m    array of shape (n_samples,).\u001b[39;00m\n\u001b[1;32m   1238\u001b[0m \u001b[39m\"\"\"\u001b[39;00m\n\u001b[1;32m   1239\u001b[0m X \u001b[39m=\u001b[39m \u001b[39mself\u001b[39m\u001b[39m.\u001b[39m_validate_data(\n\u001b[1;32m   1240\u001b[0m     X, dtype\u001b[39m=\u001b[39mDTYPE, order\u001b[39m=\u001b[39m\u001b[39m\"\u001b[39m\u001b[39mC\u001b[39m\u001b[39m\"\u001b[39m, accept_sparse\u001b[39m=\u001b[39m\u001b[39m\"\u001b[39m\u001b[39mcsr\u001b[39m\u001b[39m\"\u001b[39m, reset\u001b[39m=\u001b[39m\u001b[39mFalse\u001b[39;00m\n\u001b[1;32m   1241\u001b[0m )\n\u001b[0;32m-> 1242\u001b[0m raw_predictions \u001b[39m=\u001b[39m \u001b[39mself\u001b[39;49m\u001b[39m.\u001b[39;49m_raw_predict(X)\n\u001b[1;32m   1243\u001b[0m \u001b[39mif\u001b[39;00m raw_predictions\u001b[39m.\u001b[39mshape[\u001b[39m1\u001b[39m] \u001b[39m==\u001b[39m \u001b[39m1\u001b[39m:\n\u001b[1;32m   1244\u001b[0m     \u001b[39mreturn\u001b[39;00m raw_predictions\u001b[39m.\u001b[39mravel()\n",
      "File \u001b[0;32m~/Dropbox/ADS/Hackathon 2023/fars/lib/python3.10/site-packages/sklearn/ensemble/_gb.py:678\u001b[0m, in \u001b[0;36mBaseGradientBoosting._raw_predict\u001b[0;34m(self, X)\u001b[0m\n\u001b[1;32m    676\u001b[0m \u001b[39mdef\u001b[39;00m \u001b[39m_raw_predict\u001b[39m(\u001b[39mself\u001b[39m, X):\n\u001b[1;32m    677\u001b[0m \u001b[39m    \u001b[39m\u001b[39m\"\"\"Return the sum of the trees raw predictions (+ init estimator).\"\"\"\u001b[39;00m\n\u001b[0;32m--> 678\u001b[0m     raw_predictions \u001b[39m=\u001b[39m \u001b[39mself\u001b[39;49m\u001b[39m.\u001b[39;49m_raw_predict_init(X)\n\u001b[1;32m    679\u001b[0m     predict_stages(\u001b[39mself\u001b[39m\u001b[39m.\u001b[39mestimators_, X, \u001b[39mself\u001b[39m\u001b[39m.\u001b[39mlearning_rate, raw_predictions)\n\u001b[1;32m    680\u001b[0m     \u001b[39mreturn\u001b[39;00m raw_predictions\n",
      "File \u001b[0;32m~/Dropbox/ADS/Hackathon 2023/fars/lib/python3.10/site-packages/sklearn/ensemble/_gb.py:664\u001b[0m, in \u001b[0;36mBaseGradientBoosting._raw_predict_init\u001b[0;34m(self, X)\u001b[0m\n\u001b[1;32m    662\u001b[0m \u001b[39mdef\u001b[39;00m \u001b[39m_raw_predict_init\u001b[39m(\u001b[39mself\u001b[39m, X):\n\u001b[1;32m    663\u001b[0m \u001b[39m    \u001b[39m\u001b[39m\"\"\"Check input and compute raw predictions of the init estimator.\"\"\"\u001b[39;00m\n\u001b[0;32m--> 664\u001b[0m     \u001b[39mself\u001b[39;49m\u001b[39m.\u001b[39;49m_check_initialized()\n\u001b[1;32m    665\u001b[0m     X \u001b[39m=\u001b[39m \u001b[39mself\u001b[39m\u001b[39m.\u001b[39mestimators_[\u001b[39m0\u001b[39m, \u001b[39m0\u001b[39m]\u001b[39m.\u001b[39m_validate_X_predict(X, check_input\u001b[39m=\u001b[39m\u001b[39mTrue\u001b[39;00m)\n\u001b[1;32m    666\u001b[0m     \u001b[39mif\u001b[39;00m \u001b[39mself\u001b[39m\u001b[39m.\u001b[39minit_ \u001b[39m==\u001b[39m \u001b[39m\"\u001b[39m\u001b[39mzero\u001b[39m\u001b[39m\"\u001b[39m:\n",
      "File \u001b[0;32m~/Dropbox/ADS/Hackathon 2023/fars/lib/python3.10/site-packages/sklearn/ensemble/_gb.py:367\u001b[0m, in \u001b[0;36mBaseGradientBoosting._check_initialized\u001b[0;34m(self)\u001b[0m\n\u001b[1;32m    365\u001b[0m \u001b[39mdef\u001b[39;00m \u001b[39m_check_initialized\u001b[39m(\u001b[39mself\u001b[39m):\n\u001b[1;32m    366\u001b[0m \u001b[39m    \u001b[39m\u001b[39m\"\"\"Check that the estimator is initialized, raising an error if not.\"\"\"\u001b[39;00m\n\u001b[0;32m--> 367\u001b[0m     check_is_fitted(\u001b[39mself\u001b[39;49m)\n",
      "File \u001b[0;32m~/Dropbox/ADS/Hackathon 2023/fars/lib/python3.10/site-packages/sklearn/utils/validation.py:1462\u001b[0m, in \u001b[0;36mcheck_is_fitted\u001b[0;34m(estimator, attributes, msg, all_or_any)\u001b[0m\n\u001b[1;32m   1459\u001b[0m     \u001b[39mraise\u001b[39;00m \u001b[39mTypeError\u001b[39;00m(\u001b[39m\"\u001b[39m\u001b[39m%s\u001b[39;00m\u001b[39m is not an estimator instance.\u001b[39m\u001b[39m\"\u001b[39m \u001b[39m%\u001b[39m (estimator))\n\u001b[1;32m   1461\u001b[0m \u001b[39mif\u001b[39;00m \u001b[39mnot\u001b[39;00m _is_fitted(estimator, attributes, all_or_any):\n\u001b[0;32m-> 1462\u001b[0m     \u001b[39mraise\u001b[39;00m NotFittedError(msg \u001b[39m%\u001b[39m {\u001b[39m\"\u001b[39m\u001b[39mname\u001b[39m\u001b[39m\"\u001b[39m: \u001b[39mtype\u001b[39m(estimator)\u001b[39m.\u001b[39m\u001b[39m__name__\u001b[39m})\n",
      "\u001b[0;31mNotFittedError\u001b[0m: This GradientBoostingClassifier instance is not fitted yet. Call 'fit' with appropriate arguments before using this estimator."
     ]
    }
   ],
   "source": [
    "predictions = model.predict(categorical_encoded)\n",
    "predictions"
   ]
  }
 ],
 "metadata": {
  "kernelspec": {
   "display_name": "fars",
   "language": "python",
   "name": "python3"
  },
  "language_info": {
   "codemirror_mode": {
    "name": "ipython",
    "version": 3
   },
   "file_extension": ".py",
   "mimetype": "text/x-python",
   "name": "python",
   "nbconvert_exporter": "python",
   "pygments_lexer": "ipython3",
   "version": "3.10.9"
  },
  "orig_nbformat": 4
 },
 "nbformat": 4,
 "nbformat_minor": 2
}
